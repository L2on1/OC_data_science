{
 "cells": [
  {
   "cell_type": "markdown",
   "metadata": {},
   "source": [
    "# Nettoyez et analysez votre jeu de données Nettoyez et analysez votre jeu de données "
   ]
  },
  {
   "cell_type": "markdown",
   "metadata": {},
   "source": [
    "## Nettoyer vos données avec python"
   ]
  },
  {
   "cell_type": "markdown",
   "metadata": {},
   "source": [
    "### Detecter les erreurs"
   ]
  },
  {
   "cell_type": "code",
   "execution_count": 20,
   "metadata": {},
   "outputs": [],
   "source": [
    "# import des librairies dont nous aurons besoin\n",
    "import pandas as pd\n",
    "import numpy as np\n",
    "import re"
   ]
  },
  {
   "cell_type": "code",
   "execution_count": 21,
   "metadata": {},
   "outputs": [
    {
     "data": {
      "text/html": [
       "<div>\n",
       "<style scoped>\n",
       "    .dataframe tbody tr th:only-of-type {\n",
       "        vertical-align: middle;\n",
       "    }\n",
       "\n",
       "    .dataframe tbody tr th {\n",
       "        vertical-align: top;\n",
       "    }\n",
       "\n",
       "    .dataframe thead th {\n",
       "        text-align: right;\n",
       "    }\n",
       "</style>\n",
       "<table border=\"1\" class=\"dataframe\">\n",
       "  <thead>\n",
       "    <tr style=\"text-align: right;\">\n",
       "      <th></th>\n",
       "      <th>prenom</th>\n",
       "      <th>email</th>\n",
       "      <th>date_naissance</th>\n",
       "      <th>pays</th>\n",
       "      <th>taille</th>\n",
       "    </tr>\n",
       "  </thead>\n",
       "  <tbody>\n",
       "    <tr>\n",
       "      <th>0</th>\n",
       "      <td>Leila</td>\n",
       "      <td>leila@example.com</td>\n",
       "      <td>23/01/1990</td>\n",
       "      <td>France</td>\n",
       "      <td>1.49m</td>\n",
       "    </tr>\n",
       "    <tr>\n",
       "      <th>1</th>\n",
       "      <td>Samuel</td>\n",
       "      <td>samuel_329@example.com</td>\n",
       "      <td>20/09/2001</td>\n",
       "      <td>NaN</td>\n",
       "      <td>1.67m</td>\n",
       "    </tr>\n",
       "    <tr>\n",
       "      <th>2</th>\n",
       "      <td>Radia</td>\n",
       "      <td>choupipoune@supermail.eu</td>\n",
       "      <td>12 sept. 1984</td>\n",
       "      <td>Côte d'ivoire</td>\n",
       "      <td>153cm</td>\n",
       "    </tr>\n",
       "    <tr>\n",
       "      <th>3</th>\n",
       "      <td>Marc</td>\n",
       "      <td>marco23@example.com, mc23@supermail.eu</td>\n",
       "      <td>10/02/1978</td>\n",
       "      <td>France</td>\n",
       "      <td>1.65m</td>\n",
       "    </tr>\n",
       "    <tr>\n",
       "      <th>4</th>\n",
       "      <td>Heri</td>\n",
       "      <td>helloworld@supermail.eu</td>\n",
       "      <td>05/03/2008</td>\n",
       "      <td>Madagascar</td>\n",
       "      <td>1.34m</td>\n",
       "    </tr>\n",
       "    <tr>\n",
       "      <th>5</th>\n",
       "      <td>Hanna</td>\n",
       "      <td>hanna2019@supermail.eu</td>\n",
       "      <td>01/01/1970</td>\n",
       "      <td>24</td>\n",
       "      <td>3.45m</td>\n",
       "    </tr>\n",
       "    <tr>\n",
       "      <th>6</th>\n",
       "      <td>samuël</td>\n",
       "      <td>samuel_329@example.com</td>\n",
       "      <td>NaN</td>\n",
       "      <td>Bénin</td>\n",
       "      <td>1.45m</td>\n",
       "    </tr>\n",
       "  </tbody>\n",
       "</table>\n",
       "</div>"
      ],
      "text/plain": [
       "   prenom                                   email date_naissance  \\\n",
       "0   Leila                       leila@example.com     23/01/1990   \n",
       "1  Samuel                  samuel_329@example.com     20/09/2001   \n",
       "2   Radia                choupipoune@supermail.eu  12 sept. 1984   \n",
       "3    Marc  marco23@example.com, mc23@supermail.eu     10/02/1978   \n",
       "4    Heri                 helloworld@supermail.eu     05/03/2008   \n",
       "5   Hanna                  hanna2019@supermail.eu     01/01/1970   \n",
       "6  samuël                  samuel_329@example.com            NaN   \n",
       "\n",
       "            pays taille  \n",
       "0         France  1.49m  \n",
       "1            NaN  1.67m  \n",
       "2  Côte d'ivoire  153cm  \n",
       "3         France  1.65m  \n",
       "4     Madagascar  1.34m  \n",
       "5             24  3.45m  \n",
       "6          Bénin  1.45m  "
      ]
     },
     "metadata": {},
     "output_type": "display_data"
    }
   ],
   "source": [
    "# chargement et affichage des données\n",
    "data = pd.read_csv('personnes.csv')\n",
    "display(data)"
   ]
  },
  {
   "cell_type": "markdown",
   "metadata": {},
   "source": [
    "#### Valeurs manquantes"
   ]
  },
  {
   "cell_type": "code",
   "execution_count": 22,
   "metadata": {},
   "outputs": [
    {
     "name": "stdout",
     "output_type": "stream",
     "text": [
      "prenom            0\n",
      "email             0\n",
      "date_naissance    1\n",
      "pays              1\n",
      "taille            0\n",
      "dtype: int64\n"
     ]
    }
   ],
   "source": [
    "#Detecter les valeurs manquante (les NULL)\n",
    "print(data.isnull().sum())"
   ]
  },
  {
   "cell_type": "markdown",
   "metadata": {},
   "source": [
    "#### Doublons"
   ]
  },
  {
   "cell_type": "code",
   "execution_count": 23,
   "metadata": {},
   "outputs": [
    {
     "data": {
      "text/html": [
       "<div>\n",
       "<style scoped>\n",
       "    .dataframe tbody tr th:only-of-type {\n",
       "        vertical-align: middle;\n",
       "    }\n",
       "\n",
       "    .dataframe tbody tr th {\n",
       "        vertical-align: top;\n",
       "    }\n",
       "\n",
       "    .dataframe thead th {\n",
       "        text-align: right;\n",
       "    }\n",
       "</style>\n",
       "<table border=\"1\" class=\"dataframe\">\n",
       "  <thead>\n",
       "    <tr style=\"text-align: right;\">\n",
       "      <th></th>\n",
       "      <th>prenom</th>\n",
       "      <th>email</th>\n",
       "      <th>date_naissance</th>\n",
       "      <th>pays</th>\n",
       "      <th>taille</th>\n",
       "    </tr>\n",
       "  </thead>\n",
       "  <tbody>\n",
       "    <tr>\n",
       "      <th>1</th>\n",
       "      <td>Samuel</td>\n",
       "      <td>samuel_329@example.com</td>\n",
       "      <td>20/09/2001</td>\n",
       "      <td>NaN</td>\n",
       "      <td>1.67m</td>\n",
       "    </tr>\n",
       "    <tr>\n",
       "      <th>6</th>\n",
       "      <td>samuël</td>\n",
       "      <td>samuel_329@example.com</td>\n",
       "      <td>NaN</td>\n",
       "      <td>Bénin</td>\n",
       "      <td>1.45m</td>\n",
       "    </tr>\n",
       "  </tbody>\n",
       "</table>\n",
       "</div>"
      ],
      "text/plain": [
       "   prenom                   email date_naissance   pays taille\n",
       "1  Samuel  samuel_329@example.com     20/09/2001    NaN  1.67m\n",
       "6  samuël  samuel_329@example.com            NaN  Bénin  1.45m"
      ]
     },
     "execution_count": 23,
     "metadata": {},
     "output_type": "execute_result"
    }
   ],
   "source": [
    "#Detecter les doublons\n",
    "data.loc[data['email'].duplicated(keep=False),:]"
   ]
  },
  {
   "cell_type": "markdown",
   "metadata": {},
   "source": [
    "### Traitez les erreurs : "
   ]
  },
  {
   "cell_type": "markdown",
   "metadata": {},
   "source": [
    "#### Theorie"
   ]
  },
  {
   "cell_type": "markdown",
   "metadata": {},
   "source": [
    "`# Nouvelle dataframe :`\n",
    "\n",
    "`data['nom_colonne'] = nouvelle_colonne`\n",
    "\n",
    "`mask = # condition à vérifier pour cibler spécifiquement certaines lignes`\n",
    "\n",
    "`data.loc[mask, 'ma_colonne'] = nouvelles_valeurs`"
   ]
  },
  {
   "cell_type": "markdown",
   "metadata": {},
   "source": [
    "#### Traitez les pays :"
   ]
  },
  {
   "cell_type": "code",
   "execution_count": 24,
   "metadata": {},
   "outputs": [
    {
     "data": {
      "text/plain": [
       "0           France\n",
       "1              NaN\n",
       "2    Côte d'ivoire\n",
       "3           France\n",
       "4       Madagascar\n",
       "5               24\n",
       "6            Bénin\n",
       "Name: pays, dtype: object"
      ]
     },
     "metadata": {},
     "output_type": "display_data"
    }
   ],
   "source": [
    "display(data['pays'])"
   ]
  },
  {
   "cell_type": "markdown",
   "metadata": {},
   "source": [
    "- Le probleme etait que il y a la valeur 24 qui ne correspond pas a un pays\n",
    "- Pour regler cette erreurs nous allons creer un dictionnaire ou nous allons mettre nos pays\n",
    "- Nous alons donc verifier si le pays correspond ou non a un pays du dictionnaire\n",
    "- Si il correspond alors tout est bon\n",
    "- Si ça correspond pas alors on met un ***NaN***"
   ]
  },
  {
   "cell_type": "code",
   "execution_count": 25,
   "metadata": {},
   "outputs": [
    {
     "data": {
      "text/plain": [
       "0           France\n",
       "1              NaN\n",
       "2    Côte d'ivoire\n",
       "3           France\n",
       "4       Madagascar\n",
       "5              NaN\n",
       "6            Bénin\n",
       "Name: pays, dtype: object"
      ]
     },
     "metadata": {},
     "output_type": "display_data"
    }
   ],
   "source": [
    "VALID_COUNTRIES = ['France', 'Côte d\\'ivoire', 'Madagascar', 'Bénin', 'Allemagne'\n",
    "                  , 'USA']\n",
    "mask = ~data['pays'].isin(VALID_COUNTRIES)\n",
    "data.loc[mask, 'pays'] = np.NaN\n",
    "display(data['pays'])"
   ]
  },
  {
   "cell_type": "markdown",
   "metadata": {},
   "source": [
    "On remarque que la valeur ***24*** qui n'etait pas dans le dictionnaire er devnu la valeur ***Nan***"
   ]
  },
  {
   "cell_type": "markdown",
   "metadata": {},
   "source": [
    "#### Traitez les e-mails"
   ]
  },
  {
   "cell_type": "code",
   "execution_count": 26,
   "metadata": {},
   "outputs": [
    {
     "data": {
      "text/plain": [
       "0                         leila@example.com\n",
       "1                    samuel_329@example.com\n",
       "2                  choupipoune@supermail.eu\n",
       "3    marco23@example.com, mc23@supermail.eu\n",
       "4                   helloworld@supermail.eu\n",
       "5                    hanna2019@supermail.eu\n",
       "6                    samuel_329@example.com\n",
       "Name: email, dtype: object"
      ]
     },
     "execution_count": 26,
     "metadata": {},
     "output_type": "execute_result"
    }
   ],
   "source": [
    "data['email'] "
   ]
  },
  {
   "cell_type": "markdown",
   "metadata": {},
   "source": [
    "Au tour des e-mails, maintenant ! Le problème avec cette colonne, c'est qu'il y a parfois 2 adresses e-mail par ligne. Nous ne souhaitons prendre que la première"
   ]
  },
  {
   "cell_type": "code",
   "execution_count": 27,
   "metadata": {},
   "outputs": [
    {
     "data": {
      "text/plain": [
       "0           leila@example.com\n",
       "1      samuel_329@example.com\n",
       "2    choupipoune@supermail.eu\n",
       "3         marco23@example.com\n",
       "4     helloworld@supermail.eu\n",
       "5      hanna2019@supermail.eu\n",
       "6      samuel_329@example.com\n",
       "Name: email, dtype: object"
      ]
     },
     "metadata": {},
     "output_type": "display_data"
    }
   ],
   "source": [
    "data['email'] = data['email'].str.split(',', n=1, expand=True)[0]\n",
    "display(data['email'])"
   ]
  },
  {
   "cell_type": "markdown",
   "metadata": {},
   "source": [
    "Nous avons plus que un email par ligne"
   ]
  },
  {
   "cell_type": "markdown",
   "metadata": {},
   "source": [
    "#### Traitez les tailles"
   ]
  },
  {
   "cell_type": "code",
   "execution_count": 28,
   "metadata": {},
   "outputs": [
    {
     "data": {
      "text/plain": [
       "0    1.49m\n",
       "1    1.67m\n",
       "2    153cm\n",
       "3    1.65m\n",
       "4    1.34m\n",
       "5    3.45m\n",
       "6    1.45m\n",
       "Name: taille, dtype: object"
      ]
     },
     "metadata": {},
     "output_type": "display_data"
    }
   ],
   "source": [
    "display(data['taille'])"
   ]
  },
  {
   "cell_type": "markdown",
   "metadata": {},
   "source": [
    "On remarque une taille impossible et un taille en cm"
   ]
  },
  {
   "cell_type": "markdown",
   "metadata": {},
   "source": [
    "Ici nous decidons de garder seulement les taille en m. Et puis de donner les taille manquantes grace a la moyenne des autre tailles. Nous ne faisons pax la conversion cm -> m"
   ]
  },
  {
   "cell_type": "code",
   "execution_count": 29,
   "metadata": {},
   "outputs": [
    {
     "data": {
      "text/plain": [
       "0    1.49\n",
       "1    1.67\n",
       "2     NaN\n",
       "3    1.65\n",
       "4    1.34\n",
       "5    3.45\n",
       "6    1.45\n",
       "Name: taille, dtype: float64"
      ]
     },
     "metadata": {},
     "output_type": "display_data"
    }
   ],
   "source": [
    "data['taille'] = data['taille'].str[:-1]\n",
    "data['taille'] = pd.to_numeric(data['taille'], errors='coerce')\n",
    "display(data['taille'])"
   ]
  },
  {
   "cell_type": "code",
   "execution_count": 30,
   "metadata": {},
   "outputs": [
    {
     "data": {
      "text/plain": [
       "0    1.49\n",
       "1    1.67\n",
       "2    1.84\n",
       "3    1.65\n",
       "4    1.34\n",
       "5    3.45\n",
       "6    1.45\n",
       "Name: taille, dtype: float64"
      ]
     },
     "metadata": {},
     "output_type": "display_data"
    }
   ],
   "source": [
    "data.loc[data['taille'].isnull(), 'taille'] = data['taille'].mean()\n",
    "data['taille']=data['taille'].round(2)\n",
    "display(data['taille'])"
   ]
  },
  {
   "cell_type": "markdown",
   "metadata": {},
   "source": [
    "On remarque que il rest la taille de 3.45 m \n",
    "On va essayrer de la traiter"
   ]
  },
  {
   "cell_type": "code",
   "execution_count": 31,
   "metadata": {},
   "outputs": [
    {
     "data": {
      "text/plain": [
       "0    1.49\n",
       "1    1.67\n",
       "2    1.84\n",
       "3    1.65\n",
       "4    1.34\n",
       "5    1.84\n",
       "6    1.45\n",
       "Name: taille, dtype: float64"
      ]
     },
     "metadata": {},
     "output_type": "display_data"
    }
   ],
   "source": [
    "data.loc[(data['taille']<=1.0) | (data['taille']>= 2.5),'taille'] = data['taille'].mean()\n",
    "data['taille']=data['taille'].round(2)\n",
    "display(data['taille'])"
   ]
  },
  {
   "cell_type": "markdown",
   "metadata": {},
   "source": [
    "On remarque que nous avons remplacer la valeur trop haute"
   ]
  },
  {
   "cell_type": "markdown",
   "metadata": {},
   "source": [
    "#### Triez les dates"
   ]
  },
  {
   "cell_type": "markdown",
   "metadata": {},
   "source": [
    "Nous allons spécifier un certain format de date, et transformer notre variable dans un type adéquat. Les formats non adequat vont etre transformer en NaN grace à ***coerce*** comme pour les tailles"
   ]
  },
  {
   "cell_type": "code",
   "execution_count": 32,
   "metadata": {},
   "outputs": [
    {
     "data": {
      "text/plain": [
       "0   1990-01-23\n",
       "1   2001-09-20\n",
       "2          NaT\n",
       "3   1978-02-10\n",
       "4   2008-03-05\n",
       "5   1970-01-01\n",
       "6          NaT\n",
       "Name: date_naissance, dtype: datetime64[ns]"
      ]
     },
     "metadata": {},
     "output_type": "display_data"
    }
   ],
   "source": [
    "data['date_naissance'] = pd.to_datetime(data['date_naissance'], format='%d/%m/%Y', errors='coerce')\n",
    "display(data['date_naissance'])"
   ]
  },
  {
   "cell_type": "markdown",
   "metadata": {},
   "source": [
    "### Exercice chapitre 2"
   ]
  },
  {
   "cell_type": "code",
   "execution_count": 33,
   "metadata": {},
   "outputs": [
    {
     "data": {
      "text/html": [
       "<div>\n",
       "<style scoped>\n",
       "    .dataframe tbody tr th:only-of-type {\n",
       "        vertical-align: middle;\n",
       "    }\n",
       "\n",
       "    .dataframe tbody tr th {\n",
       "        vertical-align: top;\n",
       "    }\n",
       "\n",
       "    .dataframe thead th {\n",
       "        text-align: right;\n",
       "    }\n",
       "</style>\n",
       "<table border=\"1\" class=\"dataframe\">\n",
       "  <thead>\n",
       "    <tr style=\"text-align: right;\">\n",
       "      <th></th>\n",
       "      <th>date_operation</th>\n",
       "      <th>libelle</th>\n",
       "      <th>montant</th>\n",
       "      <th>solde_avt_ope</th>\n",
       "      <th>categ</th>\n",
       "    </tr>\n",
       "  </thead>\n",
       "  <tbody>\n",
       "    <tr>\n",
       "      <th>0</th>\n",
       "      <td>2023-03-31</td>\n",
       "      <td>DON XX XX XX XX XX XX XX</td>\n",
       "      <td>-1.44</td>\n",
       "      <td>1515.25</td>\n",
       "      <td>AUTRE</td>\n",
       "    </tr>\n",
       "    <tr>\n",
       "      <th>1</th>\n",
       "      <td>2023-04-03</td>\n",
       "      <td>CARTE XX XX RAPT XX</td>\n",
       "      <td>-24.00</td>\n",
       "      <td>1513.81</td>\n",
       "      <td>TRANSPORT</td>\n",
       "    </tr>\n",
       "    <tr>\n",
       "      <th>2</th>\n",
       "      <td>2023-04-03</td>\n",
       "      <td>CARTE XX XX RAPT XX</td>\n",
       "      <td>-73.00</td>\n",
       "      <td>1489.81</td>\n",
       "      <td>TRANSPORT</td>\n",
       "    </tr>\n",
       "    <tr>\n",
       "      <th>3</th>\n",
       "      <td>2023-04-03</td>\n",
       "      <td>VIREMENT XX XX XX XX XX XX XX XX XX XX XX XX</td>\n",
       "      <td>676.00</td>\n",
       "      <td>1416.81</td>\n",
       "      <td>AUTRE</td>\n",
       "    </tr>\n",
       "    <tr>\n",
       "      <th>4</th>\n",
       "      <td>2023-04-03</td>\n",
       "      <td>VIREMENT XX XX XX XX XX XX</td>\n",
       "      <td>4.80</td>\n",
       "      <td>2092.81</td>\n",
       "      <td>AUTRE</td>\n",
       "    </tr>\n",
       "  </tbody>\n",
       "</table>\n",
       "</div>"
      ],
      "text/plain": [
       "  date_operation                                       libelle  montant  \\\n",
       "0     2023-03-31                      DON XX XX XX XX XX XX XX    -1.44   \n",
       "1     2023-04-03                           CARTE XX XX RAPT XX   -24.00   \n",
       "2     2023-04-03                           CARTE XX XX RAPT XX   -73.00   \n",
       "3     2023-04-03  VIREMENT XX XX XX XX XX XX XX XX XX XX XX XX   676.00   \n",
       "4     2023-04-03                    VIREMENT XX XX XX XX XX XX     4.80   \n",
       "\n",
       "   solde_avt_ope      categ  \n",
       "0        1515.25      AUTRE  \n",
       "1        1513.81  TRANSPORT  \n",
       "2        1489.81  TRANSPORT  \n",
       "3        1416.81      AUTRE  \n",
       "4        2092.81      AUTRE  "
      ]
     },
     "execution_count": 33,
     "metadata": {},
     "output_type": "execute_result"
    }
   ],
   "source": [
    "#importation des données\n",
    "df_operation = pd.read_csv('operations.csv')\n",
    "df_operation.head()"
   ]
  },
  {
   "cell_type": "markdown",
   "metadata": {},
   "source": [
    "<p>Instruction</p>\n",
    "<blockquote> Plusieurs erreurs se sont glissées dans ce jeu de données. Votre mission, si toutefois vous l'acceptez, va être de les trouver et de proposer des solutions adéquates pour les gérer. Vous aurez besoin dans tous les cas de nettoyer votre fichier avant de passer à la suite !</blockquote>"
   ]
  },
  {
   "cell_type": "code",
   "execution_count": 40,
   "metadata": {},
   "outputs": [],
   "source": [
    "df_operation=df_operation.loc[df_operation['libelle'].duplicated(keep=False),:]"
   ]
  },
  {
   "cell_type": "markdown",
   "metadata": {},
   "source": [
    "**Premier étape : traitez les dates opérations**\n",
    "- verifier le format\n",
    "- Si pas le bon format on le rend `null`"
   ]
  },
  {
   "cell_type": "code",
   "execution_count": 34,
   "metadata": {},
   "outputs": [
    {
     "data": {
      "text/plain": [
       "0     2023-03-31\n",
       "1     2023-04-03\n",
       "2     2023-04-03\n",
       "3     2023-04-03\n",
       "4     2023-04-03\n",
       "         ...    \n",
       "304   2023-10-05\n",
       "305   2023-10-05\n",
       "306   2023-10-06\n",
       "307   2023-10-06\n",
       "308   2023-10-06\n",
       "Name: date_operation, Length: 309, dtype: datetime64[ns]"
      ]
     },
     "execution_count": 34,
     "metadata": {},
     "output_type": "execute_result"
    }
   ],
   "source": [
    "pd.to_datetime(df_operation['date_operation'], errors='coerce')"
   ]
  },
  {
   "cell_type": "markdown",
   "metadata": {},
   "source": [
    "**2 : Gerer les libellées**\n",
    "\n",
    "Je ne voit pas d'erreur dans les libellé et je ne vois pas comment les gerer.\n"
   ]
  },
  {
   "cell_type": "markdown",
   "metadata": {},
   "source": [
    "**3 : Verifier que le montant avant opertion et le solde concorde**\n",
    "\n",
    "Il faut verifier $ \\forall i \\in [\\![1:n]\\!], \\ montant[i]=solde\\_avt\\_ope[i+1]-solde\\_avt\\_ope[i]$"
   ]
  },
  {
   "cell_type": "code",
   "execution_count": 35,
   "metadata": {},
   "outputs": [
    {
     "data": {
      "text/plain": [
       "-1.44"
      ]
     },
     "metadata": {},
     "output_type": "display_data"
    },
    {
     "data": {
      "text/plain": [
       "-1.44"
      ]
     },
     "metadata": {},
     "output_type": "display_data"
    },
    {
     "data": {
      "text/plain": [
       "1515.25"
      ]
     },
     "metadata": {},
     "output_type": "display_data"
    },
    {
     "data": {
      "text/plain": [
       "1513.81"
      ]
     },
     "metadata": {},
     "output_type": "display_data"
    }
   ],
   "source": [
    "i=0\n",
    "\n",
    "display(df_operation.loc[:,\"montant\"].loc[i])\n",
    "operation_tmp = df_operation[\"solde_avt_ope\"].loc[i+1] - df_operation[\"solde_avt_ope\"].loc[i]\n",
    "operation_tmp= round(operation_tmp,2)\n",
    "display(operation_tmp)\n",
    "\n",
    "display(df_operation[\"solde_avt_ope\"][i])\n",
    "\n",
    "display(df_operation[\"montant\"][i] + df_operation[\"solde_avt_ope\"][i])"
   ]
  },
  {
   "cell_type": "code",
   "execution_count": 36,
   "metadata": {},
   "outputs": [
    {
     "data": {
      "text/plain": [
       "1513.81"
      ]
     },
     "execution_count": 36,
     "metadata": {},
     "output_type": "execute_result"
    }
   ],
   "source": [
    "array_operation = df_operation.to_numpy()\n",
    "array_operation[1,3]"
   ]
  },
  {
   "cell_type": "code",
   "execution_count": 38,
   "metadata": {},
   "outputs": [
    {
     "name": "stdout",
     "output_type": "stream",
     "text": [
      "-1.44\n",
      "-1.44\n",
      "-24.0\n",
      "-24.0\n",
      "-73.0\n",
      "-73.0\n",
      "676.0\n",
      "676.0\n",
      "4.8\n",
      "4.8\n",
      "-14.39\n",
      "-14.39\n",
      "-15.2\n",
      "-15.2\n",
      "-12.0\n",
      "-12.0\n",
      "-7.02\n",
      "-7.02\n",
      "-6.8\n",
      "-6.8\n",
      "-1.84\n",
      "-1.84\n",
      "992.8\n",
      "992.8\n",
      "-24.0\n",
      "-24.0\n",
      "1.6\n",
      "1.6\n",
      "-84.4\n",
      "-84.4\n",
      "-12.42\n",
      "-12.42\n",
      "-6.0\n",
      "-6.0\n",
      "-20.64\n",
      "-20.64\n",
      "-1.6\n",
      "-1.6\n",
      "-42.42\n",
      "-42.42\n",
      "-2.7\n",
      "-2.7\n",
      "836.0\n",
      "836.0\n",
      "-7.56\n",
      "-7.56\n",
      "869.44\n",
      "869.44\n",
      "-48.0\n",
      "-48.0\n",
      "-28.96\n",
      "-28.96\n",
      "-280.0\n",
      "-280.0\n",
      "-1.6\n",
      "-1.6\n",
      "-8.8\n",
      "-8.8\n",
      "-0.8\n",
      "-0.8\n",
      "-345.0\n",
      "-345.0\n",
      "1.6\n",
      "1.6\n",
      "-10.32\n",
      "-10.32\n",
      "-8.72\n",
      "-8.72\n",
      "-24.0\n",
      "-24.0\n",
      "-74.58\n",
      "-74.58\n",
      "-1.7\n",
      "-1.7\n",
      "-13.6\n",
      "-13.6\n",
      "-7.2\n",
      "-7.2\n",
      "-10.43\n",
      "-10.43\n",
      "-7.84\n",
      "-7.84\n",
      "-11.64\n",
      "-11.64\n",
      "-9.2\n",
      "-9.2\n",
      "0.0\n",
      "-32.67\n",
      "0.0\n",
      "-32.67\n",
      "22.67\n",
      "-10.0\n",
      "30.77\n",
      "-1.9\n",
      "23.56\n",
      "-9.11\n",
      "31.27\n",
      "-1.4\n",
      "-3.33\n",
      "-36.0\n",
      "20.43\n",
      "-12.24\n",
      "79.87\n",
      "47.2\n",
      "24.19\n",
      "-8.48\n",
      "15.97\n",
      "-16.7\n",
      "22.27\n",
      "-10.4\n",
      "0.67\n",
      "-32.0\n",
      "-40.33\n",
      "-73.0\n",
      "18.28\n",
      "-14.39\n",
      "15.51\n",
      "-17.16\n",
      "708.67\n",
      "676.0\n",
      "29.19\n",
      "-3.48\n",
      "30.83\n",
      "-1.84\n",
      "25.65\n",
      "-7.02\n",
      "31.07\n",
      "-1.6\n",
      "31.55\n",
      "-1.12\n",
      "31.23\n",
      "-1.44\n",
      "0.67\n",
      "-32.0\n",
      "23.07\n",
      "-9.6\n",
      "-9.78\n",
      "-42.45\n",
      "31.07\n",
      "-1.6\n",
      "27.07\n",
      "-5.6\n",
      "-312.33\n",
      "-345.0\n",
      "-0.88\n",
      "-33.55\n",
      "21.67\n",
      "-11.0\n",
      "19.71\n",
      "-12.96\n",
      "24.67\n",
      "-8.0\n",
      "31.07\n",
      "-1.6\n",
      "20.67\n",
      "-12.0\n",
      "21.27\n",
      "-11.4\n",
      "0.67\n",
      "-32.0\n",
      "30.27\n",
      "-2.4\n",
      "22.95\n",
      "-9.72\n",
      "968.99\n",
      "936.32\n",
      "-105.57\n",
      "-138.24\n",
      "29.47\n",
      "-3.2\n",
      "28.26\n",
      "-4.41\n",
      "24.83\n",
      "-7.84\n",
      "16.86\n",
      "-15.81\n",
      "-15.33\n",
      "-48.0\n",
      "18.51\n",
      "-14.16\n",
      "10.08\n",
      "-22.59\n",
      "24.93\n",
      "-7.74\n",
      "25.78\n",
      "-6.89\n",
      "31.23\n",
      "-1.44\n",
      "-3.33\n",
      "-36.0\n",
      "-40.33\n",
      "-73.0\n",
      "27.57\n",
      "-5.1\n",
      "30.83\n",
      "-1.84\n",
      "18.28\n",
      "-14.39\n",
      "22.27\n",
      "-10.4\n",
      "708.67\n",
      "676.0\n",
      "12.27\n",
      "-20.4\n",
      "26.29\n",
      "-6.38\n",
      "30.16\n",
      "-2.51\n",
      "28.04\n",
      "-4.63\n",
      "26.79\n",
      "-5.88\n",
      "30.35\n",
      "-2.32\n",
      "6.09\n",
      "nan\n",
      "nan\n",
      "-9.2\n",
      "nan\n",
      "-7.99\n",
      "nan\n",
      "-19.2\n",
      "nan\n",
      "-15.99\n",
      "nan\n",
      "-345.0\n",
      "nan\n",
      "-8.0\n",
      "nan\n",
      "-4.39\n",
      "nan\n",
      "-2.4\n",
      "nan\n",
      "-10.2\n",
      "nan\n",
      "-18.24\n",
      "nan\n",
      "-18.45\n",
      "nan\n",
      "-9.31\n",
      "nan\n",
      "-29.0\n",
      "nan\n",
      "-10.05\n",
      "nan\n",
      "-2.72\n",
      "nan\n",
      "-8.8\n",
      "nan\n",
      "-7.12\n",
      "nan\n",
      "-19.84\n",
      "nan\n",
      "-19.36\n",
      "nan\n",
      "-10.4\n",
      "nan\n",
      "-8.0\n",
      "nan\n",
      "-6.6\n",
      "nan\n",
      "-27.68\n",
      "nan\n",
      "-17.2\n",
      "nan\n",
      "-29.52\n",
      "nan\n",
      "-96.0\n",
      "nan\n",
      "-24.48\n",
      "nan\n",
      "-183.99\n",
      "nan\n",
      "-40.0\n",
      "nan\n",
      "-11.44\n",
      "nan\n",
      "-10.95\n",
      "nan\n",
      "-12.49\n",
      "nan\n",
      "-7.12\n",
      "nan\n",
      "-23.85\n",
      "nan\n",
      "-1.76\n",
      "nan\n",
      "-36.0\n",
      "nan\n",
      "-19.93\n",
      "nan\n",
      "-13.06\n",
      "nan\n",
      "-14.39\n",
      "nan\n",
      "-1.12\n",
      "nan\n",
      "-8.8\n",
      "nan\n",
      "-73.0\n",
      "nan\n",
      "-48.0\n",
      "nan\n",
      "-40.0\n",
      "nan\n",
      "-73.0\n",
      "nan\n",
      "-602.27\n",
      "nan\n",
      "676.0\n",
      "nan\n",
      "-14.62\n",
      "nan\n",
      "-36.48\n",
      "nan\n",
      "-1.92\n",
      "nan\n",
      "-29.2\n",
      "nan\n",
      "-53.1\n",
      "nan\n",
      "-1.53\n",
      "nan\n",
      "-9.52\n",
      "nan\n",
      "-1.08\n",
      "nan\n",
      "-14.4\n",
      "nan\n",
      "-8.0\n",
      "nan\n",
      "-9.88\n",
      "nan\n",
      "-345.0\n",
      "nan\n",
      "-4.88\n",
      "nan\n",
      "-104.0\n",
      "nan\n",
      "-12.48\n",
      "nan\n",
      "-190.8\n",
      "nan\n",
      "-13.6\n",
      "nan\n",
      "-6.49\n",
      "nan\n",
      "-4.8\n",
      "nan\n",
      "-20.8\n",
      "nan\n",
      "-9.2\n",
      "nan\n",
      "-4.8\n",
      "nan\n",
      "-9.6\n",
      "nan\n",
      "-32.0\n",
      "nan\n",
      "-4.88\n",
      "nan\n",
      "-60.16\n",
      "nan\n",
      "1071.6\n",
      "nan\n",
      "-7.54\n",
      "nan\n",
      "-8.14\n",
      "nan\n",
      "-11.2\n",
      "nan\n",
      "-36.0\n",
      "nan\n",
      "-8.0\n",
      "nan\n",
      "-32.44\n",
      "nan\n",
      "-0.94\n",
      "nan\n",
      "-1.44\n",
      "nan\n",
      "-23.43\n",
      "nan\n",
      "-9.78\n",
      "nan\n",
      "-2.4\n",
      "nan\n",
      "-2.4\n",
      "nan\n",
      "-18.4\n",
      "nan\n",
      "-9.82\n",
      "nan\n",
      "-75.2\n",
      "nan\n",
      "-10.2\n",
      "nan\n",
      "676.0\n",
      "nan\n",
      "-15000.0\n",
      "nan\n",
      "-10.51\n",
      "nan\n",
      "-17.2\n",
      "nan\n",
      "-1.92\n",
      "nan\n",
      "-1.6\n",
      "nan\n",
      "-7.46\n",
      "nan\n",
      "-1.6\n",
      "nan\n",
      "-10.88\n",
      "nan\n",
      "-21.73\n",
      "nan\n",
      "-2.0\n",
      "nan\n",
      "-7.54\n",
      "nan\n",
      "-0.96\n",
      "nan\n",
      "-1.19\n",
      "nan\n",
      "-0.96\n",
      "nan\n",
      "-8.0\n",
      "nan\n",
      "-3.28\n",
      "nan\n",
      "-17.44\n",
      "nan\n",
      "-10.4\n",
      "nan\n",
      "-4.0\n",
      "nan\n",
      "-3.2\n",
      "nan\n",
      "-2.4\n",
      "nan\n",
      "-11.7\n",
      "nan\n",
      "-345.0\n",
      "nan\n",
      "-23.2\n",
      "nan\n",
      "-3.92\n",
      "nan\n",
      "-53.76\n",
      "nan\n",
      "-28.11\n",
      "nan\n",
      "-0.8\n",
      "nan\n",
      "-2.0\n",
      "nan\n",
      "-2.0\n",
      "nan\n",
      "-4.79\n",
      "nan\n",
      "-2.4\n",
      "nan\n",
      "-1.68\n",
      "nan\n",
      "-12.84\n",
      "nan\n",
      "-10.23\n",
      "nan\n",
      "-7.12\n",
      "nan\n",
      "-10.91\n",
      "nan\n",
      "-0.8\n",
      "nan\n",
      "-3.78\n",
      "nan\n",
      "-11.97\n",
      "nan\n",
      "-6.4\n",
      "nan\n",
      "-2.01\n",
      "nan\n",
      "-5.0\n",
      "nan\n",
      "-12.0\n",
      "nan\n",
      "-43.6\n",
      "nan\n",
      "-32.0\n",
      "nan\n",
      "-29.18\n",
      "nan\n",
      "-9.8\n",
      "nan\n",
      "-2.45\n",
      "nan\n",
      "-2.28\n",
      "nan\n",
      "-2.44\n",
      "nan\n",
      "-36.0\n",
      "nan\n",
      "-26.19\n",
      "nan\n",
      "-13.59\n",
      "nan\n",
      "676.0\n",
      "nan\n",
      "-75.2\n",
      "nan\n",
      "-10.4\n",
      "nan\n",
      "-14.39\n",
      "nan\n",
      "-3.6\n",
      "nan\n",
      "-0.8\n",
      "nan\n",
      "-6.39\n",
      "nan\n",
      "-6.38\n",
      "nan\n",
      "-1.92\n",
      "nan\n",
      "-11.12\n",
      "nan\n",
      "-11.2\n",
      "nan\n",
      "-4.0\n",
      "nan\n",
      "-5.57\n",
      "nan\n",
      "-0.8\n",
      "nan\n",
      "-1.44\n",
      "nan\n",
      "-9.6\n",
      "nan\n",
      "nan\n",
      "nan\n",
      "-1.44\n",
      "nan\n",
      "-9.6\n",
      "nan\n",
      "-11.25\n",
      "nan\n",
      "-4.0\n",
      "nan\n",
      "-19.61\n",
      "nan\n",
      "-47.61\n",
      "nan\n",
      "-345.0\n",
      "nan\n",
      "39.82\n",
      "nan\n",
      "-20.59\n",
      "nan\n",
      "-1.6\n",
      "nan\n",
      "-0.96\n",
      "nan\n",
      "-5.2\n",
      "nan\n",
      "-2.56\n",
      "nan\n",
      "-30.37\n",
      "nan\n",
      "-8.6\n",
      "nan\n",
      "-2.56\n",
      "nan\n",
      "-10.45\n",
      "nan\n",
      "-4.0\n",
      "nan\n",
      "-5.6\n",
      "nan\n",
      "-593.6\n",
      "nan\n",
      "-8.52\n",
      "nan\n",
      "-7.12\n",
      "nan\n",
      "-23.33\n",
      "nan\n",
      "-9.31\n",
      "nan\n",
      "-12.0\n",
      "nan\n",
      "-40.0\n",
      "nan\n",
      "-2.93\n",
      "nan\n",
      "-10.36\n",
      "nan\n",
      "-320.0\n",
      "nan\n",
      "-1.2\n",
      "nan\n",
      "-1.76\n",
      "nan\n",
      "-36.0\n",
      "nan\n",
      "676.0\n",
      "nan\n",
      "-67.68\n",
      "nan\n",
      "-10.64\n",
      "nan\n",
      "-4.8\n",
      "nan\n",
      "-1.92\n",
      "nan\n",
      "-10.0\n"
     ]
    }
   ],
   "source": [
    "array_operation = df_operation.to_numpy()\n",
    "#montant : [i,2] / solde_avt_ope : [i,3]\n",
    "for i in range(0,array_operation.shape[0]-1):\n",
    "    print( round(array_operation[i+1,3] - array_operation[i,3],2))\n",
    "    print(array_operation[i,2])\n",
    "    if (array_operation[i,2] != round(array_operation[i+1,3] - array_operation[i,3],2)):\n",
    "        array_operation[i+1,3] = round(array_operation[i,2] + array_operation[i,3],2)"
   ]
  }
 ],
 "metadata": {
  "kernelspec": {
   "display_name": "Python 3.9.12 ('OC_library')",
   "language": "python",
   "name": "python3"
  },
  "language_info": {
   "codemirror_mode": {
    "name": "ipython",
    "version": 3
   },
   "file_extension": ".py",
   "mimetype": "text/x-python",
   "name": "python",
   "nbconvert_exporter": "python",
   "pygments_lexer": "ipython3",
   "version": "3.9.12"
  },
  "orig_nbformat": 4,
  "vscode": {
   "interpreter": {
    "hash": "2f43c9b916d3b44a8b7c02f385ad4db6e8dcb5cb089487eeac82ee13e9872666"
   }
  }
 },
 "nbformat": 4,
 "nbformat_minor": 2
}
